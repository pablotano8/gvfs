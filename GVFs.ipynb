{
 "cells": [
  {
   "cell_type": "code",
   "execution_count": 1,
   "metadata": {},
   "outputs": [],
   "source": [
    "import torch\n",
    "from policy_networks.mlp import PolicyNet\n",
    "from policy_networks.rnn import RNNPolicyNet\n",
    "from torch import optim\n",
    "from tasks import RandomMaze\n",
    "import numpy as np\n",
    "from tasks import Maze_config\n",
    "from gvf_networks.tabular import Tabular\n",
    "from utils import train_epoch\n",
    "from IPython.display import clear_output\n",
    "import matplotlib.pyplot as plt\n",
    "%matplotlib inline"
   ]
  },
  {
   "cell_type": "code",
   "execution_count": 2,
   "metadata": {},
   "outputs": [
    {
     "name": "stdout",
     "output_type": "stream",
     "text": [
      "no GPU found\n"
     ]
    }
   ],
   "source": [
    "# get gpu when available\n",
    "if torch.cuda.is_available():\n",
    "    use_gpu = True\n",
    "    device = torch.device(\"cuda:0\")\n",
    "    print(\"GPU is available\", flush=True)\n",
    "else:\n",
    "    use_gpu = False\n",
    "    device = torch.device(\"cpu\")\n",
    "    print(\"no GPU found\", flush=True)"
   ]
  },
  {
   "cell_type": "code",
   "execution_count": 3,
   "metadata": {},
   "outputs": [],
   "source": [
    "# parameters\n",
    "gammas = [0.98]\n",
    "num_actions = 4\n",
    "lr_adam = 5e-4\n",
    "env_name = 'RandomMaze-v0'\n",
    "size = 20\n",
    "depth = 5\n",
    "lr = {'sr': 0.3, 'gvfs': 0.6, 'Q': 0.1}\n",
    "thresholds = {'sr': 0.6, 'gvfs': 0.1}\n",
    "change = 50  # maze is changed every change epochs\n",
    "batch_size = 1000\n",
    "nb_epochs = 10000\n",
    "nb_episodes_random_policy = 20\n",
    "\n",
    "# for plotting purposes\n",
    "x_grid,y_grid = np.meshgrid(np.linspace(20,480,size),np.linspace(20,480,size))"
   ]
  },
  {
   "cell_type": "code",
   "execution_count": 4,
   "metadata": {},
   "outputs": [],
   "source": [
    "# declare gvf network\n",
    "gvf_net = Tabular(size=size, num_actions=num_actions, depth=depth, gammas=gammas, \n",
    "                  thresholds=thresholds, lr=lr)\n",
    "\n",
    "# declare policy network\n",
    "logits_net = RNNPolicyNet(4 + (depth + 1) * num_actions * len(gammas), num_actions).to(device)\n",
    "\n",
    "# make optimizer\n",
    "optimizer = optim.Adam(logits_net.parameters(), lr=lr_adam)\n",
    "\n",
    "# define environment\n",
    "env, L = RandomMaze.main(start_position='goal_position',env_name=env_name, size=size)"
   ]
  },
  {
   "cell_type": "code",
   "execution_count": 5,
   "metadata": {},
   "outputs": [
    {
     "ename": "TypeError",
     "evalue": "tuple indices must be integers or slices, not tuple",
     "output_type": "error",
     "traceback": [
      "\u001b[0;31m---------------------------------------------------------------------------\u001b[0m",
      "\u001b[0;31mTypeError\u001b[0m                                 Traceback (most recent call last)",
      "\u001b[0;32m<ipython-input-5-7858b3a06eaa>\u001b[0m in \u001b[0;36m<module>\u001b[0;34m\u001b[0m\n\u001b[1;32m     20\u001b[0m     \u001b[0;31m# training\u001b[0m\u001b[0;34m\u001b[0m\u001b[0;34m\u001b[0m\u001b[0;34m\u001b[0m\u001b[0m\n\u001b[1;32m     21\u001b[0m     batch_loss, batch_rets, batch_lens = train_epoch(i, change, batch_size, env, gvf_net, logits_net, \n\u001b[0;32m---> 22\u001b[0;31m                                                      optimizer, device, nb_episodes_random_policy)\n\u001b[0m\u001b[1;32m     23\u001b[0m \u001b[0;34m\u001b[0m\u001b[0m\n\u001b[1;32m     24\u001b[0m     print('epoch: %3d \\t loss: %.3f \\t return: %.3f \\t ep_len: %.3f'%\n",
      "\u001b[0;32m~/Documents/Postdoc-Geneva/gvfs/utils.py\u001b[0m in \u001b[0;36mtrain_epoch\u001b[0;34m(i, change, batch_size, env, gvf_net, logits_net, optimizer, device, nb_episodes_random_policy)\u001b[0m\n\u001b[1;32m     48\u001b[0m \u001b[0;34m\u001b[0m\u001b[0m\n\u001b[1;32m     49\u001b[0m         \u001b[0;31m# get reward\u001b[0m\u001b[0;34m\u001b[0m\u001b[0;34m\u001b[0m\u001b[0;34m\u001b[0m\u001b[0m\n\u001b[0;32m---> 50\u001b[0;31m         \u001b[0m_\u001b[0m\u001b[0;34m,\u001b[0m \u001b[0mrew\u001b[0m\u001b[0;34m,\u001b[0m \u001b[0mdone\u001b[0m\u001b[0;34m,\u001b[0m \u001b[0m_\u001b[0m \u001b[0;34m=\u001b[0m \u001b[0menv\u001b[0m\u001b[0;34m.\u001b[0m\u001b[0mstep\u001b[0m\u001b[0;34m(\u001b[0m\u001b[0mact\u001b[0m\u001b[0;34m)\u001b[0m\u001b[0;34m\u001b[0m\u001b[0;34m\u001b[0m\u001b[0m\n\u001b[0m\u001b[1;32m     51\u001b[0m \u001b[0;34m\u001b[0m\u001b[0m\n\u001b[1;32m     52\u001b[0m         \u001b[0;31m# next position\u001b[0m\u001b[0;34m\u001b[0m\u001b[0;34m\u001b[0m\u001b[0;34m\u001b[0m\u001b[0m\n",
      "\u001b[0;32m~/anaconda3/lib/python3.7/site-packages/gym-0.20.0-py3.7.egg/gym/wrappers/time_limit.py\u001b[0m in \u001b[0;36mstep\u001b[0;34m(self, action)\u001b[0m\n\u001b[1;32m     16\u001b[0m             \u001b[0mself\u001b[0m\u001b[0;34m.\u001b[0m\u001b[0m_elapsed_steps\u001b[0m \u001b[0;32mis\u001b[0m \u001b[0;32mnot\u001b[0m \u001b[0;32mNone\u001b[0m\u001b[0;34m\u001b[0m\u001b[0;34m\u001b[0m\u001b[0m\n\u001b[1;32m     17\u001b[0m         ), \"Cannot call env.step() before calling reset()\"\n\u001b[0;32m---> 18\u001b[0;31m         \u001b[0mobservation\u001b[0m\u001b[0;34m,\u001b[0m \u001b[0mreward\u001b[0m\u001b[0;34m,\u001b[0m \u001b[0mdone\u001b[0m\u001b[0;34m,\u001b[0m \u001b[0minfo\u001b[0m \u001b[0;34m=\u001b[0m \u001b[0mself\u001b[0m\u001b[0;34m.\u001b[0m\u001b[0menv\u001b[0m\u001b[0;34m.\u001b[0m\u001b[0mstep\u001b[0m\u001b[0;34m(\u001b[0m\u001b[0maction\u001b[0m\u001b[0;34m)\u001b[0m\u001b[0;34m\u001b[0m\u001b[0;34m\u001b[0m\u001b[0m\n\u001b[0m\u001b[1;32m     19\u001b[0m         \u001b[0mself\u001b[0m\u001b[0;34m.\u001b[0m\u001b[0m_elapsed_steps\u001b[0m \u001b[0;34m+=\u001b[0m \u001b[0;36m1\u001b[0m\u001b[0;34m\u001b[0m\u001b[0;34m\u001b[0m\u001b[0m\n\u001b[1;32m     20\u001b[0m         \u001b[0;32mif\u001b[0m \u001b[0mself\u001b[0m\u001b[0;34m.\u001b[0m\u001b[0m_elapsed_steps\u001b[0m \u001b[0;34m>=\u001b[0m \u001b[0mself\u001b[0m\u001b[0;34m.\u001b[0m\u001b[0m_max_episode_steps\u001b[0m\u001b[0;34m:\u001b[0m\u001b[0;34m\u001b[0m\u001b[0;34m\u001b[0m\u001b[0m\n",
      "\u001b[0;32m~/Documents/Postdoc-Geneva/gvfs/tasks/Env.py\u001b[0m in \u001b[0;36mstep\u001b[0;34m(self, action)\u001b[0m\n\u001b[1;32m     18\u001b[0m \u001b[0;34m\u001b[0m\u001b[0m\n\u001b[1;32m     19\u001b[0m     \u001b[0;32mdef\u001b[0m \u001b[0mstep\u001b[0m\u001b[0;34m(\u001b[0m\u001b[0mself\u001b[0m\u001b[0;34m,\u001b[0m \u001b[0maction\u001b[0m\u001b[0;34m)\u001b[0m\u001b[0;34m:\u001b[0m\u001b[0;34m\u001b[0m\u001b[0;34m\u001b[0m\u001b[0m\n\u001b[0;32m---> 20\u001b[0;31m         \u001b[0mmotion\u001b[0m \u001b[0;34m=\u001b[0m \u001b[0mself\u001b[0m\u001b[0;34m.\u001b[0m\u001b[0mmotions\u001b[0m\u001b[0;34m[\u001b[0m\u001b[0maction\u001b[0m\u001b[0;34m]\u001b[0m\u001b[0;34m\u001b[0m\u001b[0;34m\u001b[0m\u001b[0m\n\u001b[0m\u001b[1;32m     21\u001b[0m         \u001b[0mcurrent_position\u001b[0m \u001b[0;34m=\u001b[0m \u001b[0mself\u001b[0m\u001b[0;34m.\u001b[0m\u001b[0mmaze\u001b[0m\u001b[0;34m.\u001b[0m\u001b[0mobjects\u001b[0m\u001b[0;34m.\u001b[0m\u001b[0magent\u001b[0m\u001b[0;34m.\u001b[0m\u001b[0mpositions\u001b[0m\u001b[0;34m[\u001b[0m\u001b[0;36m0\u001b[0m\u001b[0;34m]\u001b[0m\u001b[0;34m\u001b[0m\u001b[0;34m\u001b[0m\u001b[0m\n\u001b[1;32m     22\u001b[0m         \u001b[0mnew_position\u001b[0m \u001b[0;34m=\u001b[0m \u001b[0;34m[\u001b[0m\u001b[0mcurrent_position\u001b[0m\u001b[0;34m[\u001b[0m\u001b[0;36m0\u001b[0m\u001b[0;34m]\u001b[0m \u001b[0;34m+\u001b[0m \u001b[0mmotion\u001b[0m\u001b[0;34m[\u001b[0m\u001b[0;36m0\u001b[0m\u001b[0;34m]\u001b[0m\u001b[0;34m,\u001b[0m \u001b[0mcurrent_position\u001b[0m\u001b[0;34m[\u001b[0m\u001b[0;36m1\u001b[0m\u001b[0;34m]\u001b[0m \u001b[0;34m+\u001b[0m \u001b[0mmotion\u001b[0m\u001b[0;34m[\u001b[0m\u001b[0;36m1\u001b[0m\u001b[0;34m]\u001b[0m\u001b[0;34m]\u001b[0m\u001b[0;34m\u001b[0m\u001b[0;34m\u001b[0m\u001b[0m\n",
      "\u001b[0;31mTypeError\u001b[0m: tuple indices must be integers or slices, not tuple"
     ]
    }
   ],
   "source": [
    "total_reward = []\n",
    "\n",
    "# training loop\n",
    "for i in range(nb_epochs):\n",
    "    clear_output(wait=True)\n",
    "    \n",
    "    # new network\n",
    "    if i==0 or i%change==0:\n",
    "        # reset gvf network\n",
    "        gvf_net.reset()\n",
    "        # new environment\n",
    "        env, L = RandomMaze.main(start_position='goal_position',env_name=env_name, size=size)    \n",
    "    elif np.any([(i-k)%change == 0 for k in range(1, 3)]): # for first 3 episodes, start at goal\n",
    "        # set start position to goal\n",
    "        Maze_config.start_idx = Maze_config.goal_idx\n",
    "    else:\n",
    "        # random new position\n",
    "        Maze_config.start_idx = [L[np.random.randint(0, len(L))]]\n",
    "        \n",
    "    # training\n",
    "    batch_loss, batch_rets, batch_lens = train_epoch(i, change, batch_size, env, gvf_net, logits_net, \n",
    "                                                     optimizer, device, nb_episodes_random_policy)\n",
    "\n",
    "    print('epoch: %3d \\t loss: %.3f \\t return: %.3f \\t ep_len: %.3f'%\n",
    "            (i, batch_loss, np.mean(batch_rets), np.mean(batch_lens)))\n",
    "\n",
    "    if np.all([(i - k) % change != 0 for k in range(nb_episodes_random_policy)]):\n",
    "        total_reward.append(np.mean(batch_lens))\n",
    "\n",
    "    policy_all_states = logits_net.get_policy_all_states(env, gvf_net, device)\n",
    "\n",
    "    # figure of gvfs        \n",
    "    img = env.render('rgb_array')     \n",
    "    for i_plot in range(20):\n",
    "        plt.subplot(5, 4, i_plot + 1)\n",
    "        plt.imshow(gvf_net.gvfs[int(i_plot/4), :, :, -1, int(i_plot%4)])\n",
    "        if i_plot <= 3:\n",
    "            plt.title(np.array(['down', 'up', 'left', 'right'])[i_plot])\n",
    "        plt.colorbar()\n",
    "\n",
    "    # figure of policy network\n",
    "    plt.figure()\n",
    "    plt.imshow(img)\n",
    "    plt.quiver(x_grid, \n",
    "               y_grid, \n",
    "               policy_all_states[:,:,3] - policy_all_states[:,:,2],\n",
    "               policy_all_states[:,:,0] - policy_all_states[:,:,1])\n",
    "\n",
    "    # figure of reward\n",
    "    plt.figure()\n",
    "    plt.plot(total_reward)\n",
    "    plt.show()\n"
   ]
  },
  {
   "cell_type": "code",
   "execution_count": null,
   "metadata": {},
   "outputs": [],
   "source": [
    "self = logits_net"
   ]
  },
  {
   "cell_type": "code",
   "execution_count": null,
   "metadata": {},
   "outputs": [],
   "source": [
    "size = gvf_net.size\n",
    "policy_all_states = np.zeros([size, size, gvf_net.num_actions])\n",
    "for x_pos in range(size):\n",
    "    for y_pos in range(size):\n",
    "        pos = np.array([x_pos, y_pos])\n",
    "        r_pos = np.squeeze(env.maze.objects.goal.positions).copy()\n",
    "        obs = torch.as_tensor(format_input(pos, r_pos, size, gvf_net), dtype=torch.float).to(device)\n",
    "        policy_all_states[x_pos, y_pos] = self.get_policy(obs, h).probs.cpu().detach().numpy()"
   ]
  },
  {
   "cell_type": "code",
   "execution_count": null,
   "metadata": {},
   "outputs": [],
   "source": [
    "obs"
   ]
  },
  {
   "cell_type": "code",
   "execution_count": null,
   "metadata": {},
   "outputs": [],
   "source": [
    "import numpy as np\n",
    "import torch\n",
    "\n",
    "\n",
    "def reward_to_go(rewards):\n",
    "    n = len(rewards)\n",
    "    rtgs = np.zeros_like(rewards)\n",
    "    for i in reversed(range(n)):\n",
    "        rtgs[i] = rewards[i] + (rtgs[i + 1] if i + 1 < n else 0)\n",
    "    return rtgs\n",
    "\n",
    "\n",
    "def format_input(pos, r_pos, size, gvf_net) -> np.array:\n",
    "    return np.array([(pos[0] - size / 2) / 25, (pos[1] - size / 2) / 25,\n",
    "           (r_pos[0] - size / 2) / 25, (r_pos[1] - size / 2) / 25] + \\\n",
    "           gvf_net.gvfs[:, pos[0], pos[1], :, :].flatten().tolist() + \\\n",
    "           gvf_net.Q_gamma[pos[0], pos[1], :, :].flatten().tolist())\n"
   ]
  },
  {
   "cell_type": "code",
   "execution_count": null,
   "metadata": {},
   "outputs": [],
   "source": []
  },
  {
   "cell_type": "code",
   "execution_count": null,
   "metadata": {},
   "outputs": [],
   "source": []
  },
  {
   "cell_type": "code",
   "execution_count": null,
   "metadata": {},
   "outputs": [],
   "source": []
  },
  {
   "cell_type": "code",
   "execution_count": null,
   "metadata": {},
   "outputs": [],
   "source": []
  },
  {
   "cell_type": "code",
   "execution_count": null,
   "metadata": {},
   "outputs": [],
   "source": []
  },
  {
   "cell_type": "code",
   "execution_count": null,
   "metadata": {},
   "outputs": [],
   "source": []
  },
  {
   "cell_type": "code",
   "execution_count": null,
   "metadata": {},
   "outputs": [],
   "source": []
  },
  {
   "cell_type": "code",
   "execution_count": null,
   "metadata": {},
   "outputs": [],
   "source": []
  },
  {
   "cell_type": "code",
   "execution_count": null,
   "metadata": {},
   "outputs": [],
   "source": []
  },
  {
   "cell_type": "code",
   "execution_count": null,
   "metadata": {},
   "outputs": [],
   "source": []
  }
 ],
 "metadata": {
  "kernelspec": {
   "display_name": "Python 3",
   "language": "python",
   "name": "python3"
  },
  "language_info": {
   "codemirror_mode": {
    "name": "ipython",
    "version": 3
   },
   "file_extension": ".py",
   "mimetype": "text/x-python",
   "name": "python",
   "nbconvert_exporter": "python",
   "pygments_lexer": "ipython3",
   "version": "3.7.2"
  }
 },
 "nbformat": 4,
 "nbformat_minor": 4
}
