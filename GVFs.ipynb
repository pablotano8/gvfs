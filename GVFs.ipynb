{
 "cells": [
  {
   "cell_type": "code",
   "execution_count": 14,
   "metadata": {},
   "outputs": [],
   "source": [
    "import torch\n",
    "from policy_networks.mlp import PolicyNet\n",
    "from policy_networks.rnn import RNNPolicyNet\n",
    "from torch import optim\n",
    "from tasks import RandomMaze\n",
    "import numpy as np\n",
    "from tasks import Maze_config\n",
    "from gvf_networks.tabular import Tabular\n",
    "from utils import train_epoch\n",
    "from IPython.display import clear_output\n",
    "import matplotlib.pyplot as plt\n",
    "import pickle\n",
    "%matplotlib inline"
   ]
  },
  {
   "cell_type": "code",
   "execution_count": 2,
   "metadata": {},
   "outputs": [
    {
     "name": "stdout",
     "output_type": "stream",
     "text": [
      "no GPU found\n"
     ]
    }
   ],
   "source": [
    "# get gpu when available\n",
    "if torch.cuda.is_available():\n",
    "    use_gpu = True\n",
    "    device = torch.device(\"cuda:0\")\n",
    "    print(\"GPU is available\", flush=True)\n",
    "else:\n",
    "    use_gpu = False\n",
    "    device = torch.device(\"cpu\")\n",
    "    print(\"no GPU found\", flush=True)"
   ]
  },
  {
   "cell_type": "code",
   "execution_count": 16,
   "metadata": {},
   "outputs": [],
   "source": [
    "# parameters\n",
    "gammas = [0.98]\n",
    "num_actions = 4\n",
    "lr_adam = 5e-4\n",
    "env_name = 'RandomMaze-v0'\n",
    "size = 20\n",
    "depth = 5\n",
    "lr = {'sr': 0.3, 'gvfs': 0.6, 'Q': 0.1}\n",
    "thresholds = {'sr': 0.6, 'gvfs': 0.1}\n",
    "change = 50  # maze is changed every change epochs\n",
    "batch_size = 1000\n",
    "nb_epochs = 10000\n",
    "nb_episodes_random_policy = 20\n",
    "network = 'mlp' # or rnn\n",
    "assert(network in ['mlp', 'rnn'])\n",
    "\n",
    "# for plotting purposes\n",
    "x_grid,y_grid = np.meshgrid(np.linspace(20,480,size),np.linspace(20,480,size))"
   ]
  },
  {
   "cell_type": "code",
   "execution_count": 17,
   "metadata": {},
   "outputs": [
    {
     "name": "stderr",
     "output_type": "stream",
     "text": [
      "/Users/csmfindling/anaconda3/lib/python3.7/site-packages/gym-0.20.0-py3.7.egg/gym/logger.py:34: UserWarning: \u001b[33mWARN: Overriding environment RandomMaze-v0\u001b[0m\n",
      "  warnings.warn(colorize(\"%s: %s\" % (\"WARN\", msg % args), \"yellow\"))\n"
     ]
    }
   ],
   "source": [
    "# declare gvf network\n",
    "gvf_net = Tabular(size=size, num_actions=num_actions, depth=depth, gammas=gammas, \n",
    "                  thresholds=thresholds, lr=lr)\n",
    "\n",
    "# declare policy network\n",
    "logits_net = RNNPolicyNet(4 + (depth + 1) * num_actions * len(gammas), num_actions).to(device) if network == 'rnn' \\\n",
    "                    else PolicyNet(4 + (depth + 1) * num_actions * len(gammas), num_actions).to(device)\n",
    "\n",
    "# make optimizer\n",
    "optimizer = optim.Adam(logits_net.parameters(), lr=lr_adam)\n",
    "\n",
    "# define environment\n",
    "env, L = RandomMaze.main(start_position='goal_position',env_name=env_name, size=size)"
   ]
  },
  {
   "cell_type": "code",
   "execution_count": null,
   "metadata": {},
   "outputs": [
    {
     "name": "stdout",
     "output_type": "stream",
     "text": [
      "epoch: 1368 \t loss: 0.000 \t return: -40.000 \t ep_len: 200.000\n"
     ]
    }
   ],
   "source": [
    "total_reward = []\n",
    "\n",
    "# training loop\n",
    "for i in range(nb_epochs):\n",
    "    clear_output(wait=True)\n",
    "    \n",
    "    # new network\n",
    "    if i==0 or i%change==0:\n",
    "        # reset gvf network\n",
    "        gvf_net.reset()\n",
    "        # new environment\n",
    "        env, L = RandomMaze.main(start_position='goal_position',env_name=env_name, size=size)    \n",
    "    elif np.any([(i-k)%change == 0 for k in range(1, 3)]): # for first 3 episodes, start at goal\n",
    "        # set start position to goal\n",
    "        Maze_config.start_idx = Maze_config.goal_idx\n",
    "    else:\n",
    "        # random new position\n",
    "        Maze_config.start_idx = [L[np.random.randint(0, len(L))]]\n",
    "        \n",
    "    # training\n",
    "    batch_loss, batch_rets, batch_lens = train_epoch(i, change, batch_size, env, gvf_net, logits_net, \n",
    "                                                     optimizer, device, nb_episodes_random_policy)\n",
    "\n",
    "    print('epoch: %3d \\t loss: %.3f \\t return: %.3f \\t ep_len: %.3f'%\n",
    "            (i, batch_loss, np.mean(batch_rets), np.mean(batch_lens)))\n",
    "\n",
    "    if np.all([(i - k) % change != 0 for k in range(nb_episodes_random_policy)]):\n",
    "        total_reward.append(np.mean(batch_lens))\n",
    "\n",
    "    policy_all_states = logits_net.get_policy_all_states(env, gvf_net, device)\n",
    "\n",
    "    # figure of gvfs        \n",
    "    img = env.render('rgb_array')     \n",
    "    for i_plot in range(20):\n",
    "        plt.subplot(5, 4, i_plot + 1)\n",
    "        plt.imshow(gvf_net.gvfs[int(i_plot/4), :, :, -1, int(i_plot%4)])\n",
    "        if i_plot <= 3:\n",
    "            plt.title(np.array(['down', 'up', 'left', 'right'])[i_plot])\n",
    "        plt.colorbar()\n",
    "\n",
    "    # figure of policy network\n",
    "    plt.figure()\n",
    "    plt.imshow(img)\n",
    "    plt.quiver(x_grid, \n",
    "               y_grid, \n",
    "               policy_all_states[:,:,3] - policy_all_states[:,:,2],\n",
    "               policy_all_states[:,:,0] - policy_all_states[:,:,1])\n",
    "\n",
    "    # figure of reward\n",
    "    plt.figure()\n",
    "    plt.plot(total_reward)\n",
    "    plt.show()\n"
   ]
  },
  {
   "cell_type": "code",
   "execution_count": 6,
   "metadata": {},
   "outputs": [
    {
     "data": {
      "text/plain": [
       "'rnn'"
      ]
     },
     "execution_count": 6,
     "metadata": {},
     "output_type": "execute_result"
    }
   ],
   "source": [
    "pickle.dump([total_reward, gvf_net, logits_net, optimizer], \n",
    "            open('results/{}_nbEpochs_{}.pkl'.format(network, i), 'wb'))"
   ]
  },
  {
   "cell_type": "code",
   "execution_count": 10,
   "metadata": {},
   "outputs": [],
   "source": []
  },
  {
   "cell_type": "code",
   "execution_count": null,
   "metadata": {},
   "outputs": [],
   "source": []
  },
  {
   "cell_type": "code",
   "execution_count": null,
   "metadata": {},
   "outputs": [],
   "source": []
  },
  {
   "cell_type": "code",
   "execution_count": null,
   "metadata": {},
   "outputs": [],
   "source": []
  },
  {
   "cell_type": "code",
   "execution_count": null,
   "metadata": {},
   "outputs": [],
   "source": []
  },
  {
   "cell_type": "code",
   "execution_count": null,
   "metadata": {},
   "outputs": [],
   "source": []
  },
  {
   "cell_type": "code",
   "execution_count": null,
   "metadata": {},
   "outputs": [],
   "source": []
  }
 ],
 "metadata": {
  "kernelspec": {
   "display_name": "Python 3",
   "language": "python",
   "name": "python3"
  },
  "language_info": {
   "codemirror_mode": {
    "name": "ipython",
    "version": 3
   },
   "file_extension": ".py",
   "mimetype": "text/x-python",
   "name": "python",
   "nbconvert_exporter": "python",
   "pygments_lexer": "ipython3",
   "version": "3.7.2"
  }
 },
 "nbformat": 4,
 "nbformat_minor": 4
}
