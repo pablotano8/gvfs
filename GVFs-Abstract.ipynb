{
 "cells": [
  {
   "cell_type": "code",
   "execution_count": 5,
   "metadata": {},
   "outputs": [],
   "source": [
    "import torch\n",
    "from policy_networks.mlp import PolicyNet\n",
    "from policy_networks.rnn import RNNPolicyNet\n",
    "from torch import optim\n",
    "from tasks import RandomMaze\n",
    "import numpy as np\n",
    "from tasks.Env import Env\n",
    "from tasks import Maze_config\n",
    "from gvf_networks.tabular import Tabular\n",
    "from utils import train_epoch\n",
    "from IPython.display import clear_output\n",
    "import matplotlib.pyplot as plt\n",
    "import pickle\n",
    "from mazelab.generators import random_maze\n",
    "import gym\n",
    "%matplotlib inline"
   ]
  },
  {
   "cell_type": "code",
   "execution_count": 6,
   "metadata": {},
   "outputs": [
    {
     "name": "stdout",
     "output_type": "stream",
     "text": [
      "no GPU found\n"
     ]
    }
   ],
   "source": [
    "# get gpu when available\n",
    "if torch.cuda.is_available():\n",
    "    use_gpu = True\n",
    "    device = torch.device(\"cuda:0\")\n",
    "    print(\"GPU is available\", flush=True)\n",
    "else:\n",
    "    use_gpu = False\n",
    "    device = torch.device(\"cpu\")\n",
    "    print(\"no GPU found\", flush=True)"
   ]
  },
  {
   "cell_type": "code",
   "execution_count": 7,
   "metadata": {},
   "outputs": [
    {
     "name": "stderr",
     "output_type": "stream",
     "text": [
      "/Users/csmfindling/anaconda3/lib/python3.7/site-packages/gym-0.20.0-py3.7.egg/gym/logger.py:34: UserWarning: \u001b[33mWARN: Overriding environment RandomMaze-v0\u001b[0m\n",
      "  warnings.warn(colorize(\"%s: %s\" % (\"WARN\", msg % args), \"yellow\"))\n"
     ]
    }
   ],
   "source": [
    "# parameters\n",
    "gammas = [0.98]\n",
    "num_actions = 4\n",
    "lr_adam = 5e-4\n",
    "env_name = 'RandomMaze-v0'\n",
    "size = 10\n",
    "depth = 5\n",
    "lr = {'sr': 0.3, 'gvfs': 0.6, 'Q': 0.1}\n",
    "thresholds = {'sr': 0.6, 'gvfs': 0.1}\n",
    "change = 50  # maze is changed every change epochs\n",
    "batch_size = 1000\n",
    "nb_epochs = 10000\n",
    "nb_episodes_random_policy = 20\n",
    "network = 'mlp' # or rnn\n",
    "assert(network in ['mlp', 'rnn'])\n",
    "\n",
    "# for plotting purposes\n",
    "x_grid,y_grid = np.meshgrid(np.linspace(20,480,size),np.linspace(20,480,size))\n",
    "\n",
    "\n",
    "# declare gvf network\n",
    "gvf_net_xf = Tabular(size=size, num_actions=num_actions, depth=depth, gammas=gammas, \n",
    "                  thresholds=thresholds, lr=lr)\n",
    "gvf_net_k1 = Tabular(size=size, num_actions=num_actions, depth=depth, gammas=gammas, \n",
    "                  thresholds=thresholds, lr=lr)\n",
    "gvf_net_k2 = Tabular(size=size, num_actions=num_actions, depth=depth, gammas=gammas, \n",
    "                  thresholds=thresholds, lr=lr)\n",
    "\n",
    "# declare policy network\n",
    "logits_net = RNNPolicyNet(4 + (depth + 1) * num_actions * len(gammas), num_actions).to(device) if network == 'rnn' \\\n",
    "                    else PolicyNet(4 + (depth + 1) * num_actions * len(gammas), num_actions).to(device)\n",
    "\n",
    "# make optimizer\n",
    "optimizer = optim.Adam(logits_net.parameters(), lr=lr_adam)\n",
    "\n",
    "# define environment\n",
    "env, L = RandomMaze.main(env_name=env_name, size=size)"
   ]
  },
  {
   "cell_type": "code",
   "execution_count": 4,
   "metadata": {
    "scrolled": true
   },
   "outputs": [
    {
     "ename": "KeyboardInterrupt",
     "evalue": "",
     "output_type": "error",
     "traceback": [
      "\u001b[0;31m---------------------------------------------------------------------------\u001b[0m",
      "\u001b[0;31mKeyboardInterrupt\u001b[0m                         Traceback (most recent call last)",
      "\u001b[0;32m<ipython-input-4-6d8fe36c4ff1>\u001b[0m in \u001b[0;36m<module>\u001b[0;34m\u001b[0m\n\u001b[1;32m     36\u001b[0m     \u001b[0;31m# training\u001b[0m\u001b[0;34m\u001b[0m\u001b[0;34m\u001b[0m\u001b[0;34m\u001b[0m\u001b[0m\n\u001b[1;32m     37\u001b[0m     batch_loss, batch_rets, batch_lens = train_epoch(i, change, batch_size, env,  gvf_net_xf, gvf_net_k1, gvf_net_k2, logits_net, \n\u001b[0;32m---> 38\u001b[0;31m                                                      optimizer, device, nb_episodes_random_policy, which_subgoal)\n\u001b[0m\u001b[1;32m     39\u001b[0m \u001b[0;34m\u001b[0m\u001b[0m\n\u001b[1;32m     40\u001b[0m     print('epoch: %3d \\t loss: %.3f \\t return: %.3f \\t ep_len: %.3f'%\n",
      "\u001b[0;32m~/Documents/Postdoc-Geneva/gvfs/utils.py\u001b[0m in \u001b[0;36mtrain_epoch\u001b[0;34m(i, change, batch_size, env, gvf_net_xf, gvf_net_k1, gvf_net_k2, logits_net, optimizer, device, nb_episodes_random_policy, which_subgoal)\u001b[0m\n\u001b[1;32m     70\u001b[0m         \u001b[0;32mif\u001b[0m \u001b[0mnp\u001b[0m\u001b[0;34m.\u001b[0m\u001b[0many\u001b[0m\u001b[0;34m(\u001b[0m\u001b[0;34m[\u001b[0m\u001b[0;34m(\u001b[0m\u001b[0mi\u001b[0m \u001b[0;34m-\u001b[0m \u001b[0mk\u001b[0m\u001b[0;34m)\u001b[0m \u001b[0;34m%\u001b[0m \u001b[0mchange\u001b[0m \u001b[0;34m==\u001b[0m \u001b[0;36m0\u001b[0m \u001b[0;32mfor\u001b[0m \u001b[0mk\u001b[0m \u001b[0;32min\u001b[0m \u001b[0mrange\u001b[0m\u001b[0;34m(\u001b[0m\u001b[0mnb_episodes_random_policy\u001b[0m\u001b[0;34m)\u001b[0m\u001b[0;34m]\u001b[0m\u001b[0;34m)\u001b[0m\u001b[0;34m:\u001b[0m\u001b[0;34m\u001b[0m\u001b[0;34m\u001b[0m\u001b[0m\n\u001b[1;32m     71\u001b[0m             \u001b[0mgvf_net_k1\u001b[0m\u001b[0;34m.\u001b[0m\u001b[0mupdate\u001b[0m\u001b[0;34m(\u001b[0m\u001b[0mpos\u001b[0m\u001b[0;34m,\u001b[0m \u001b[0mutility_k1\u001b[0m\u001b[0;34m,\u001b[0m \u001b[0mact\u001b[0m\u001b[0;34m,\u001b[0m \u001b[0mpos_next\u001b[0m\u001b[0;34m,\u001b[0m \u001b[0mL\u001b[0m\u001b[0;34m)\u001b[0m\u001b[0;34m\u001b[0m\u001b[0;34m\u001b[0m\u001b[0m\n\u001b[0;32m---> 72\u001b[0;31m             \u001b[0mgvf_net_k2\u001b[0m\u001b[0;34m.\u001b[0m\u001b[0mupdate\u001b[0m\u001b[0;34m(\u001b[0m\u001b[0mpos\u001b[0m\u001b[0;34m,\u001b[0m \u001b[0mutility_k2\u001b[0m\u001b[0;34m,\u001b[0m \u001b[0mact\u001b[0m\u001b[0;34m,\u001b[0m \u001b[0mpos_next\u001b[0m\u001b[0;34m,\u001b[0m \u001b[0mL\u001b[0m\u001b[0;34m)\u001b[0m\u001b[0;34m\u001b[0m\u001b[0;34m\u001b[0m\u001b[0m\n\u001b[0m\u001b[1;32m     73\u001b[0m             \u001b[0mgvf_net_xf\u001b[0m\u001b[0;34m.\u001b[0m\u001b[0mupdate\u001b[0m\u001b[0;34m(\u001b[0m\u001b[0mpos\u001b[0m\u001b[0;34m,\u001b[0m \u001b[0mutility_xf\u001b[0m\u001b[0;34m,\u001b[0m \u001b[0mact\u001b[0m\u001b[0;34m,\u001b[0m \u001b[0mpos_next\u001b[0m\u001b[0;34m,\u001b[0m \u001b[0mL\u001b[0m\u001b[0;34m)\u001b[0m\u001b[0;34m\u001b[0m\u001b[0;34m\u001b[0m\u001b[0m\n\u001b[1;32m     74\u001b[0m \u001b[0;34m\u001b[0m\u001b[0m\n",
      "\u001b[0;32m~/Documents/Postdoc-Geneva/gvfs/gvf_networks/tabular.py\u001b[0m in \u001b[0;36mupdate\u001b[0;34m(self, state, utility, act, state_next, L, pi_behav, pi_targets)\u001b[0m\n\u001b[1;32m     92\u001b[0m                                 \u001b[0mnp\u001b[0m\u001b[0;34m.\u001b[0m\u001b[0many\u001b[0m\u001b[0;34m(\u001b[0m\u001b[0mself\u001b[0m\u001b[0;34m.\u001b[0m\u001b[0mgvfs\u001b[0m\u001b[0;34m[\u001b[0m\u001b[0;34m(\u001b[0m\u001b[0mi_depth\u001b[0m \u001b[0;34m-\u001b[0m \u001b[0;36m1\u001b[0m\u001b[0;34m,\u001b[0m\u001b[0;34m)\u001b[0m \u001b[0;34m+\u001b[0m \u001b[0mtuple\u001b[0m\u001b[0;34m(\u001b[0m\u001b[0mp\u001b[0m\u001b[0;34m)\u001b[0m \u001b[0;34m+\u001b[0m \u001b[0;34m(\u001b[0m\u001b[0mg\u001b[0m\u001b[0;34m,\u001b[0m \u001b[0mi_c\u001b[0m\u001b[0;34m)\u001b[0m\u001b[0;34m]\u001b[0m \u001b[0;34m>\u001b[0m \u001b[0mself\u001b[0m\u001b[0;34m.\u001b[0m\u001b[0mthresholds\u001b[0m\u001b[0;34m[\u001b[0m\u001b[0;34m'gvfs'\u001b[0m\u001b[0;34m]\u001b[0m\u001b[0;34m)\u001b[0m \u001b[0;34m*\u001b[0m\u001b[0;31m \u001b[0m\u001b[0;31m\\\u001b[0m\u001b[0;34m\u001b[0m\u001b[0;34m\u001b[0m\u001b[0m\n\u001b[1;32m     93\u001b[0m                                 \u001b[0;34m(\u001b[0m\u001b[0;34m(\u001b[0m\u001b[0;32mnot\u001b[0m \u001b[0mhas_sr\u001b[0m\u001b[0;34m)\u001b[0m \u001b[0;32mor\u001b[0m \u001b[0mnp\u001b[0m\u001b[0;34m.\u001b[0m\u001b[0mall\u001b[0m\u001b[0;34m(\u001b[0m\u001b[0mself\u001b[0m\u001b[0;34m.\u001b[0m\u001b[0mgvfs\u001b[0m\u001b[0;34m[\u001b[0m\u001b[0;34m(\u001b[0m\u001b[0mrange\u001b[0m\u001b[0;34m(\u001b[0m\u001b[0mi_depth\u001b[0m\u001b[0;34m)\u001b[0m\u001b[0;34m,\u001b[0m\u001b[0;34m)\u001b[0m \u001b[0;34m+\u001b[0m \u001b[0mtuple\u001b[0m\u001b[0;34m(\u001b[0m\u001b[0mstate\u001b[0m\u001b[0;34m)\u001b[0m \u001b[0;34m+\u001b[0m \u001b[0;34m(\u001b[0m\u001b[0mg\u001b[0m\u001b[0;34m,\u001b[0m\u001b[0;34m)\u001b[0m\u001b[0;34m]\u001b[0m \u001b[0;34m<\u001b[0m \u001b[0mself\u001b[0m\u001b[0;34m.\u001b[0m\u001b[0mthresholds\u001b[0m\u001b[0;34m[\u001b[0m\u001b[0;34m'gvfs'\u001b[0m\u001b[0;34m]\u001b[0m\u001b[0;34m)\u001b[0m\u001b[0;34m)\u001b[0m \u001b[0;34m*\u001b[0m\u001b[0;31m \u001b[0m\u001b[0;31m\\\u001b[0m\u001b[0;34m\u001b[0m\u001b[0;34m\u001b[0m\u001b[0m\n\u001b[0;32m---> 94\u001b[0;31m                                 \u001b[0;34m(\u001b[0m\u001b[0mself\u001b[0m\u001b[0;34m.\u001b[0m\u001b[0msr\u001b[0m\u001b[0;34m[\u001b[0m\u001b[0mtuple\u001b[0m\u001b[0;34m(\u001b[0m\u001b[0mstate\u001b[0m\u001b[0;34m)\u001b[0m \u001b[0;34m+\u001b[0m \u001b[0;34m(\u001b[0m\u001b[0mg\u001b[0m\u001b[0;34m,\u001b[0m\u001b[0;34m)\u001b[0m\u001b[0;34m]\u001b[0m \u001b[0;34m<\u001b[0m \u001b[0mself\u001b[0m\u001b[0;34m.\u001b[0m\u001b[0mthresholds\u001b[0m\u001b[0;34m[\u001b[0m\u001b[0;34m'sr'\u001b[0m\u001b[0;34m]\u001b[0m\u001b[0;34m)\u001b[0m \u001b[0;34m*\u001b[0m \u001b[0;36m1\u001b[0m\u001b[0;34m\u001b[0m\u001b[0;34m\u001b[0m\u001b[0m\n\u001b[0m\u001b[1;32m     95\u001b[0m \u001b[0;34m\u001b[0m\u001b[0m\n\u001b[1;32m     96\u001b[0m                             self.gvfs[(i_depth,) + tuple(state) + (g, i_act)] = self.gvfs[\n",
      "\u001b[0;31mKeyboardInterrupt\u001b[0m: "
     ]
    }
   ],
   "source": [
    "total_reward = []\n",
    "\n",
    "# training loop\n",
    "for i in range(nb_epochs):\n",
    "    clear_output(wait=True)\n",
    "    \n",
    "    # new network\n",
    "    if i==0 or i%change==0:\n",
    "        # reset gvf network\n",
    "        gvf_net_xf.reset()\n",
    "        gvf_net_k1.reset()\n",
    "        gvf_net_k2.reset()\n",
    "        # new environment\n",
    "#         env, L = RandomMaze.main(start_position='goal_position',env_name=env_name, size=size)\n",
    "        Maze_config.x = random_maze(width=size, height=size, complexity=1, density=0.5)\n",
    "        Maze_config.xf_idx = [L[np.random.randint(0, len(L))]]\n",
    "        Maze_config.k1_idx = [L[np.random.randint(0, len(L))]]\n",
    "        Maze_config.k2_idx = [L[np.random.randint(0, len(L))]]\n",
    "        Maze_config.start_idx = [L[np.random.randint(0, len(L))]]                \n",
    "    elif np.any([(i-k)%change == 0 for k in range(0,2)]): # for first 3 episodes, start at goal\n",
    "        # set start position to goal\n",
    "        Maze_config.start_idx = Maze_config.k1_idx\n",
    "    elif np.any([(i-k)%change == 0 for k in range(2,4)]): # for first 3 episodes, start at goal\n",
    "        # set start position to goal\n",
    "        Maze_config.start_idx = Maze_config.k2_idx\n",
    "    elif np.any([(i-k)%change == 0 for k in range(4,6)]): # for first 3 episodes, start at goal\n",
    "        # set start position to goal\n",
    "        Maze_config.start_idx = Maze_config.xf_idx\n",
    "    else:\n",
    "        # random new position\n",
    "        Maze_config.start_idx = [L[np.random.randint(0, len(L))]]\n",
    "\n",
    "    #choose which subgoal is the target in this epoch:\n",
    "    which_subgoal = np.random.randint(3)\n",
    "\n",
    "    # training\n",
    "    batch_loss, batch_rets, batch_lens = train_epoch(i, change, batch_size, env,  gvf_net_xf, gvf_net_k1, gvf_net_k2, logits_net, \n",
    "                                                     optimizer, device, nb_episodes_random_policy, which_subgoal)\n",
    "\n",
    "    print('epoch: %3d \\t loss: %.3f \\t return: %.3f \\t ep_len: %.3f'%\n",
    "            (i, batch_loss, np.mean(batch_rets), np.mean(batch_lens)))\n",
    "\n",
    "    if np.all([(i - k) % change != 0 for k in range(nb_episodes_random_policy)]):\n",
    "        total_reward.append(np.mean(batch_lens))\n",
    "    \n",
    "    if False:\n",
    "        policy_all_states_k1 = logits_net.get_policy_all_states(env, gvf_net_k1,0, device)\n",
    "        policy_all_states_k2 = logits_net.get_policy_all_states(env, gvf_net_k2,1, device)\n",
    "        policy_all_states_xf = logits_net.get_policy_all_states(env, gvf_net_xf,2, device)\n",
    "\n",
    "        # figure of policy network\n",
    "        plt.figure()\n",
    "        img = env.render('rgb_array')    \n",
    "        plt.imshow(img)\n",
    "        plt.quiver(x_grid, \n",
    "                   y_grid, \n",
    "                   policy_all_states_k1[:,:,3] - policy_all_states_k1[:,:,2],\n",
    "                   policy_all_states_k1[:,:,0] - policy_all_states_k1[:,:,1])\n",
    "\n",
    "        plt.figure()\n",
    "        plt.imshow(img)\n",
    "        plt.quiver(x_grid, \n",
    "                   y_grid, \n",
    "                   policy_all_states_k2[:,:,3] - policy_all_states_k2[:,:,2],\n",
    "                   policy_all_states_k2[:,:,0] - policy_all_states_k2[:,:,1])\n",
    "\n",
    "        plt.figure()\n",
    "        plt.imshow(img)\n",
    "        plt.quiver(x_grid, \n",
    "                   y_grid, \n",
    "                   policy_all_states_xf[:,:,3] - policy_all_states_xf[:,:,2],\n",
    "                   policy_all_states_xf[:,:,0] - policy_all_states_xf[:,:,1])\n",
    "\n",
    "        # figure of reward\n",
    "        plt.figure()\n",
    "        plt.plot(total_reward)\n",
    "        plt.show()"
   ]
  },
  {
   "cell_type": "code",
   "execution_count": null,
   "metadata": {},
   "outputs": [],
   "source": [
    "from scipy.signal import savgol_filter\n",
    "plt.figure()\n",
    "plt.plot(savgol_filter(total_reward,51,1))\n",
    "plt.show()"
   ]
  },
  {
   "cell_type": "code",
   "execution_count": null,
   "metadata": {},
   "outputs": [],
   "source": [
    "import pickle\n",
    "#pickle.dump([i, change, batch_size, gvf_net_xf, gvf_net_k1, gvf_net_k2, logits_net, \n",
    "#            optimizer, device, nb_episodes_random_policy, which_subgoal], open('temp_small.pkl', 'wb'))"
   ]
  },
  {
   "cell_type": "markdown",
   "metadata": {},
   "source": [
    "## ABSTRACTIONAL GVFS"
   ]
  },
  {
   "cell_type": "code",
   "execution_count": 8,
   "metadata": {},
   "outputs": [],
   "source": [
    "import pickle\n",
    "[_, _, _, _, _, _, logits_net, \n",
    "            _, _, _, _] = pickle.load(open('temp_small.pkl', 'rb'))"
   ]
  },
  {
   "cell_type": "code",
   "execution_count": 9,
   "metadata": {},
   "outputs": [],
   "source": [
    "from gvf_networks.tabular import Tabular\n",
    "structural_gvf = Tabular(size=size, num_actions=3, depth=3, nb_subgoals_in_state=2,\n",
    "                         gammas=gammas, thresholds=thresholds, lr=lr)\n",
    "\n",
    "def format_input(pos, r_pos, size, gvf_net) -> np.array:\n",
    "    return np.array([(pos[0] - size / 2) / 25, (pos[1] - size / 2) / 25,\n",
    "           (r_pos[0] - size / 2) / 25, (r_pos[1] - size / 2) / 25] + \\\n",
    "           gvf_net.gvfs[:, pos[0], pos[1], :, :].flatten().tolist() + \\\n",
    "           gvf_net.Q_gamma[pos[0], pos[1], :, :].flatten().tolist())"
   ]
  },
  {
   "cell_type": "code",
   "execution_count": 10,
   "metadata": {},
   "outputs": [
    {
     "data": {
      "text/plain": [
       "<matplotlib.image.AxesImage at 0x7fc8f06d0518>"
      ]
     },
     "execution_count": 10,
     "metadata": {},
     "output_type": "execute_result"
    },
    {
     "data": {
      "image/png": "[encoded data removed]",
      "text/plain": [
       "<Figure size 432x288 with 1 Axes>"
      ]
     },
     "metadata": {
      "needs_background": "light"
     },
     "output_type": "display_data"
    }
   ],
   "source": [
    "# reset navigational gvfs\n",
    "gvf_net_xf.reset()\n",
    "gvf_net_k1.reset()\n",
    "gvf_net_k2.reset()\n",
    "\n",
    "# reset structural gvfs\n",
    "structural_gvf.reset()\n",
    "\n",
    "# new environment\n",
    "Maze_config.x = random_maze(width=size, height=size, complexity=1, density=0.5)\n",
    "Maze_config.xf_idx = [L[np.random.randint(0, len(L))]]\n",
    "Maze_config.k1_idx = [L[np.random.randint(0, len(L))]]\n",
    "Maze_config.k2_idx = [L[np.random.randint(0, len(L))]]\n",
    "Maze_config.start_idx = [L[np.random.randint(0, len(L))]]\n",
    "env.reset()\n",
    "\n",
    "# plot new environment\n",
    "env.reset()\n",
    "plt.figure()\n",
    "img = env.render('rgb_array')    \n",
    "plt.imshow(img)"
   ]
  },
  {
   "cell_type": "code",
   "execution_count": 11,
   "metadata": {},
   "outputs": [],
   "source": [
    "# learn navigational gvfs\n",
    "env.reset()\n",
    "for i in range(nb_episodes_random_policy):       \n",
    "    if np.any([(i-k)%change == 0 for k in range(0,2)]): # for first 3 episodes, start at goal 1\n",
    "        Maze_config.start_idx = Maze_config.k1_idx\n",
    "        which_subgoal = 0\n",
    "    elif np.any([(i-k)%change == 0 for k in range(2,4)]): # for first 3 episodes, start at goal 2\n",
    "        Maze_config.start_idx = Maze_config.k2_idx\n",
    "        which_subgoal = 1\n",
    "    elif np.any([(i-k)%change == 0 for k in range(4,6)]): # for first 3 episodes, start at end goal\n",
    "        Maze_config.start_idx = Maze_config.xf_idx\n",
    "        which_subgoal = 2\n",
    "    else:\n",
    "        Maze_config.start_idx = [L[np.random.randint(0, len(L))]]\n",
    "        which_subgoal = np.random.randint(3)\n",
    "    \n",
    "    # learning navigational gvfs\n",
    "    _, _, _ = train_epoch(i, change, batch_size, env,  gvf_net_xf, gvf_net_k1, gvf_net_k2, logits_net, \n",
    "                                                     optimizer, device, nb_episodes_random_policy, which_subgoal)"
   ]
  },
  {
   "cell_type": "code",
   "execution_count": 12,
   "metadata": {},
   "outputs": [
    {
     "data": {
      "image/png": "[encoded data removed]",
      "text/plain": [
       "<Figure size 1008x360 with 40 Axes>"
      ]
     },
     "metadata": {
      "needs_background": "light"
     },
     "output_type": "display_data"
    },
    {
     "data": {
      "image/png": "[encoded data removed]",
      "text/plain": [
       "<Figure size 1008x360 with 40 Axes>"
      ]
     },
     "metadata": {
      "needs_background": "light"
     },
     "output_type": "display_data"
    },
    {
     "data": {
      "image/png": "[encoded data removed]",
      "text/plain": [
       "<Figure size 1008x360 with 40 Axes>"
      ]
     },
     "metadata": {
      "needs_background": "light"
     },
     "output_type": "display_data"
    }
   ],
   "source": [
    "plt.figure(figsize=(14, 5))\n",
    "for i_plot in range(20):\n",
    "    plt.subplot(5, 4, i_plot + 1)\n",
    "    plt.imshow(gvf_net_k1.gvfs[int(i_plot/4), :, :, -1, int(i_plot%4)], aspect='auto')\n",
    "    if i_plot <= 3:\n",
    "        plt.title(np.array(['down', 'up', 'left', 'right'])[i_plot])\n",
    "    plt.colorbar()\n",
    "\n",
    "plt.figure(figsize=(14, 5)) \n",
    "for i_plot in range(20):\n",
    "    plt.subplot(5, 4, i_plot + 1)\n",
    "    plt.imshow(gvf_net_k2.gvfs[int(i_plot/4), :, :, -1, int(i_plot%4)], aspect='auto')\n",
    "    if i_plot <= 3:\n",
    "        plt.title(np.array(['down', 'up', 'left', 'right'])[i_plot])\n",
    "    plt.colorbar()\n",
    "\n",
    "plt.figure(figsize=(14, 5))\n",
    "for i_plot in range(20):\n",
    "    plt.subplot(5, 4, i_plot + 1)\n",
    "    plt.imshow(gvf_net_xf.gvfs[int(i_plot/4), :, :, -1, int(i_plot%4)], aspect='auto')\n",
    "    if i_plot <= 3:\n",
    "        plt.title(np.array(['down', 'up', 'left', 'right'])[i_plot])\n",
    "    plt.colorbar()"
   ]
  },
  {
   "cell_type": "code",
   "execution_count": 43,
   "metadata": {},
   "outputs": [],
   "source": [
    "nb_steps_structural_gvfs = 500000\n",
    "structural_gvf.reset()\n",
    "structural_gvf.lr['gvfs']        = 0.8\n",
    "structural_gvf.thresholds['gvfs'] = 0.01\n",
    "\n",
    "# navigational goals\n",
    "k1_pos = np.squeeze(env.maze.objects.k1.positions).copy()\n",
    "k2_pos = np.squeeze(env.maze.objects.k2.positions).copy()\n",
    "xf_pos = np.squeeze(env.maze.objects.xf.positions).copy()\n",
    "nav_goals = [k1_pos, k2_pos, xf_pos]\n",
    "\n",
    "# navigational gvfs\n",
    "nav_gvfs = [gvf_net_k1, gvf_net_k2, gvf_net_xf]\n",
    "\n",
    "#choose a navigational policy for behavior\n",
    "which_navigation_policy = np.random.randint(3)\n",
    "nav_goal     = nav_goals[which_navigation_policy]\n",
    "nav_gvf      = nav_gvfs[which_navigation_policy]\n",
    "nav_policies_lst, counts, nb_utilities = [], [], []\n",
    "\n",
    "# reset episode\n",
    "_, done, sub_state, count, states_lst = env.reset(), False, np.zeros(3), 0, []\n",
    "\n",
    "for i_step in range(nb_steps_structural_gvfs):\n",
    "    pos   = np.squeeze(env.maze.objects.agent.positions).copy()\n",
    "    state = np.array(np.concatenate((np.array(sub_state)[:-1], pos)), dtype=np.int)\n",
    "\n",
    "    # behavior policy\n",
    "    obs = format_input(pos, nav_goal, size, nav_gvf)\n",
    "\n",
    "    # get act and prob\n",
    "    act, _ = logits_net.get_action(torch.as_tensor(obs, dtype=torch.float32).to(device))\n",
    "    pi_behav = np.array(logits_net.get_policy(torch.as_tensor(obs, \n",
    "                                                              dtype=torch.float32).\n",
    "                                              to(device), None)[0].probs.detach()[act])\n",
    "\n",
    "    # get target\n",
    "    pi_targets = np.array([\n",
    "                           logits_net.get_policy(torch.as_tensor(format_input(pos, g, size, b), \n",
    "                                                                 dtype=torch.float32).to(device)\n",
    "                                                 ,None)[0].probs.detach()[act] \n",
    "                           for (g, b) in zip(nav_goals, nav_gvfs)])\n",
    "\n",
    "    assert(pi_targets[which_navigation_policy] == pi_behav)\n",
    "\n",
    "    # move\n",
    "    _, sub_state, done, _ = env.step(act)\n",
    "    \n",
    "#    if done and count!=199:\n",
    "#        assert(False)\n",
    "    states_lst.append(sub_state)\n",
    "    \n",
    "    # next position\n",
    "    pos_next = np.squeeze(env.maze.objects.agent.positions).copy()\n",
    "    \n",
    "    #if structural_gvf.gvfs[0,sub_state[0]*1,sub_state[1]*1, pos_next[0], pos_next[1], 0, -2] > 0.4 and \\\n",
    "    #    structural_gvf.gvfs[0,sub_state[0]*1,sub_state[1]*1, pos_next[0], pos_next[1], 0, -2] < 0.42:\n",
    "    #    assert(False)\n",
    "    # utility\n",
    "    utility = np.all(sub_state[:2]) * (sub_state[-1] == 1) * 1.\n",
    "    nb_utilities.append(utility)\n",
    "    \n",
    "    # next state\n",
    "    state_next = np.array(np.concatenate((np.array(sub_state)[:-1], pos_next)), dtype=np.int)\n",
    "\n",
    "    #if np.all(sub_state[:2]) and done and count<199:\n",
    "    #    assert(False)\n",
    "\n",
    "    # update structural gvfs\n",
    "    structural_gvf.update(state, utility, which_navigation_policy, state_next, L, \n",
    "                          pi_behav=pi_behav, pi_targets=pi_targets)\n",
    "\n",
    "    #if np.any(structural_gvf.gvfs[0,0,0][:, :, 0, 2] != 0) or \\\n",
    "    #    np.any(structural_gvf.gvfs[0,1,0][:, :, 0, 2] != 0) or \\\n",
    "    #       np.any(structural_gvf.gvfs[0,0,1][:, :, 0, 2] != 0):\n",
    "    #    assert(False)\n",
    "\n",
    "    if np.all(pos_next == nav_goals[which_navigation_policy]):\n",
    "        counts.append(count)\n",
    "        which_navigation_policy = np.random.randint(3)\n",
    "        nav_goal     = nav_goals[which_navigation_policy]\n",
    "        nav_gvf = nav_gvfs[which_navigation_policy]\n",
    "        nav_policies_lst.append(which_navigation_policy)\n",
    "\n",
    "    count += 1\n",
    "    if done:\n",
    "        assert(count==200) or (utility==1)\n",
    "        counts.append(count)\n",
    "        Maze_config.start_idx = [L[np.random.randint(0, len(L))]]\n",
    "        _, done, sub_state = env.reset(), False, np.zeros(3)\n",
    "        count = 0"
   ]
  },
  {
   "cell_type": "code",
   "execution_count": 44,
   "metadata": {},
   "outputs": [],
   "source": [
    "    utility = np.all(sub_state[:2]) * (sub_state[-1] == 1) * 1.\n",
    "    nb_utilities.append(utility)\n",
    "    \n",
    "    # next state\n",
    "    state_next = np.array(np.concatenate((np.array(sub_state)[:-1], pos_next)), dtype=np.int)\n",
    "\n",
    "    #if np.all(sub_state[:2]) and done and count<199:\n",
    "    #    assert(False)"
   ]
  },
  {
   "cell_type": "code",
   "execution_count": 45,
   "metadata": {},
   "outputs": [
    {
     "data": {
      "text/plain": [
       "0.004031991936016128"
      ]
     },
     "execution_count": 45,
     "metadata": {},
     "output_type": "execute_result"
    }
   ],
   "source": [
    "np.mean(nb_utilities)"
   ]
  },
  {
   "cell_type": "code",
   "execution_count": 51,
   "metadata": {},
   "outputs": [
    {
     "data": {
      "image/png": "[encoded data removed]",
      "text/plain": [
       "<Figure size 864x576 with 8 Axes>"
      ]
     },
     "metadata": {
      "needs_background": "light"
     },
     "output_type": "display_data"
    }
   ],
   "source": [
    "plt.figure(figsize=(12, 8))\n",
    "plt.subplot(2, 2, 1)\n",
    "plt.imshow(np.squeeze(structural_gvf.sr[1,1]))\n",
    "plt.colorbar()\n",
    "for i in range(3):\n",
    "    plt.subplot(2, 2, i + 2)\n",
    "    plt.imshow(np.squeeze(structural_gvf.gvfs[1,0,1])[:, :, i])\n",
    "    plt.colorbar()"
   ]
  },
  {
   "cell_type": "code",
   "execution_count": 48,
   "metadata": {},
   "outputs": [
    {
     "data": {
      "text/plain": [
       "<matplotlib.image.AxesImage at 0x7fc8a82a5a20>"
      ]
     },
     "execution_count": 48,
     "metadata": {},
     "output_type": "execute_result"
    },
    {
     "data": {
      "image/png": "[encoded data removed]",
      "text/plain": [
       "<Figure size 432x288 with 1 Axes>"
      ]
     },
     "metadata": {
      "needs_background": "light"
     },
     "output_type": "display_data"
    }
   ],
   "source": [
    "env.reset()\n",
    "plt.figure()\n",
    "img = env.render('rgb_array')    \n",
    "plt.imshow(img)"
   ]
  },
  {
   "cell_type": "code",
   "execution_count": 19,
   "metadata": {},
   "outputs": [
    {
     "ename": "NameError",
     "evalue": "name 'beha_gvf' is not defined",
     "output_type": "error",
     "traceback": [
      "\u001b[0;31m---------------------------------------------------------------------------\u001b[0m",
      "\u001b[0;31mNameError\u001b[0m                                 Traceback (most recent call last)",
      "\u001b[0;32m<ipython-input-19-434deb19f87a>\u001b[0m in \u001b[0;36m<module>\u001b[0;34m\u001b[0m\n\u001b[1;32m      3\u001b[0m \u001b[0;34m\u001b[0m\u001b[0m\n\u001b[1;32m      4\u001b[0m \u001b[0;31m# behavior policy\u001b[0m\u001b[0;34m\u001b[0m\u001b[0;34m\u001b[0m\u001b[0;34m\u001b[0m\u001b[0m\n\u001b[0;32m----> 5\u001b[0;31m \u001b[0mobs\u001b[0m \u001b[0;34m=\u001b[0m \u001b[0mformat_input\u001b[0m\u001b[0;34m(\u001b[0m\u001b[0mpos\u001b[0m\u001b[0;34m,\u001b[0m \u001b[0mnav_goal\u001b[0m\u001b[0;34m,\u001b[0m \u001b[0msize\u001b[0m\u001b[0;34m,\u001b[0m \u001b[0mbeha_gvf\u001b[0m\u001b[0;34m)\u001b[0m\u001b[0;34m\u001b[0m\u001b[0;34m\u001b[0m\u001b[0m\n\u001b[0m\u001b[1;32m      6\u001b[0m \u001b[0;34m\u001b[0m\u001b[0m\n\u001b[1;32m      7\u001b[0m \u001b[0;31m# get act and prob\u001b[0m\u001b[0;34m\u001b[0m\u001b[0;34m\u001b[0m\u001b[0;34m\u001b[0m\u001b[0m\n",
      "\u001b[0;31mNameError\u001b[0m: name 'beha_gvf' is not defined"
     ]
    }
   ],
   "source": [
    "pos   = np.squeeze(env.maze.objects.agent.positions).copy()\n",
    "state = np.array(np.concatenate((np.array(sub_state)[:-1], pos)), dtype=np.int)\n",
    "\n",
    "# behavior policy\n",
    "obs = format_input(pos, nav_goal, size, beha_gvf)\n",
    "\n",
    "# get act and prob\n",
    "act, _ = logits_net.get_action(torch.as_tensor(obs, dtype=torch.float32).to(device))\n",
    "pi_behav = np.array(logits_net.get_policy(torch.as_tensor(obs, \n",
    "                                                          dtype=torch.float32).\n",
    "                                          to(device), None)[0].probs.detach()[act])\n",
    "\n",
    "# get target\n",
    "pi_targets = np.array([\n",
    "                       logits_net.get_policy(torch.as_tensor(format_input(pos, g, size, b), \n",
    "                                                             dtype=torch.float32).to(device)\n",
    "                                             ,None)[0].probs.detach()[act] \n",
    "                       for (g, b) in zip(nav_goals, nav_gvfs)])\n",
    "\n",
    "# move\n",
    "_, sub_state, done, _ = env.step(act)\n",
    "\n",
    "# next position\n",
    "pos_next = np.squeeze(env.maze.objects.agent.positions).copy()\n",
    "\n",
    "# utility\n",
    "utility = (sub_state[-1] == 1) * 1.\n",
    "\n",
    "# next state\n",
    "state_next = np.array(np.concatenate((np.array(sub_state)[:-1], pos_next)), dtype=np.int)\n",
    "\n",
    "# update structural gvfs\n",
    "structural_gvf.update(state, utility, act, state_next, L, pi_behav=pi_behav, pi_targets=pi_targets)"
   ]
  },
  {
   "cell_type": "code",
   "execution_count": null,
   "metadata": {},
   "outputs": [],
   "source": [
    "np.where(structural_gvf.gvfs[0,1,1][:, :, 0, 0] != 0)\n",
    "print(state)\n",
    "print(state_next)"
   ]
  },
  {
   "cell_type": "code",
   "execution_count": null,
   "metadata": {},
   "outputs": [],
   "source": [
    "plt.imshow(structural_gvf.gvfs[0,0,1][:, :, 0, 2])"
   ]
  },
  {
   "cell_type": "code",
   "execution_count": null,
   "metadata": {},
   "outputs": [],
   "source": [
    "#    structural_gvf.update(state, utility, which_navigation_policy, state_next, L, \n",
    "#                          pi_behav=pi_behav, pi_targets=pi_targets)\n",
    "act = which_navigation_policy\n",
    "self = structural_gvf\n",
    "if ((pi_behav != 0.25) and pi_targets is None) or \\\n",
    "        (pi_behav is None and pi_targets is None):\n",
    "    raise ValueError('pi_behav should be 0.25 and pi_targets None (case of exploratory phase for navigational'\n",
    "                     ' GVFs learning) or both should be specified (case of structural GVFs learning)')\n",
    "# importance sampling weight for off-policy TD learning\n",
    "if pi_targets is None:\n",
    "    IS_weights = np.ones(self.num_actions)\n",
    "else:\n",
    "    IS_weights = pi_targets / pi_behav\n",
    "    if len(IS_weights) != self.num_actions:\n",
    "        raise ValueError('This is a mismatch in the dimension of pi_targets and self.num_actions')\n",
    "if np.any(np.isnan(IS_weights)):\n",
    "    raise ValueError('is_weight is NaN')\n",
    "if np.any(IS_weights != 1) and self.nb_subgoals_in_state == 0:\n",
    "    raise ValueError('off-policy TD is not developed yet for navigational GVFs')\n",
    "if np.all(IS_weights == 1) and self.nb_subgoals_in_state > 0:\n",
    "    raise ValueError('pi_behav and pi_targets must be defined for structural GVFs')\n",
    "for g in range(self.num_gammas):\n",
    "    self.Q_gamma[tuple(state) + (g, act)] = self.Q_gamma[tuple(state) + (g, act)] + \\\n",
    "                                            self.lr['Q'] * (\n",
    "                                                    utility + (1 - utility) * self.gammas[g] *\n",
    "                                                    np.max(\n",
    "                                                        self.Q_gamma[tuple(state_next) + (g,)]\n",
    "                                                    )\n",
    "                                                    - self.Q_gamma[tuple(state) + (g, act)]\n",
    "                                            )\n",
    "    if self.depth > 0:\n",
    "        # successor representation under the default policy\n",
    "        has_sr = 1 if (self.nb_subgoals_in_state == 0) else 0\n",
    "\n",
    "        self.sr[tuple(state) + (g,)] = self.sr[tuple(state) + (g,)] \\\n",
    "                                       + self.lr['sr'] * (utility + (1 - utility) * 0.25 / pi_behav * has_sr *\n",
    "                                                          self.gammas[g] * self.sr[tuple(state_next) + (g,)]\n",
    "                                                          - self.sr[tuple(state) + (g,)]\n",
    "                                                          )\n",
    "        for i_depth in range(self.depth):\n",
    "            if self.nb_subgoals_in_state == 0:\n",
    "                assert (self.num_actions == 4), 'navigational gvfs not implemented in the case nb_actions != 4'\n",
    "                iterate_obj = range(self.num_actions), state + np.array([[1, 0], [-1, 0], [0, -1], [0, 1]]), \\\n",
    "                              np.arange(2, 4)[None] - (np.arange(4)[:, None] > 1) * 2, IS_weights\n",
    "            else:\n",
    "                iterate_obj = np.arange(self.num_actions), np.tile(state_next[None], (self.num_actions, 1)), \\\n",
    "                              np.vstack([np.delete(np.arange(self.num_actions), k)[None]\n",
    "                                         for k in range(self.num_actions)]), IS_weights\n",
    "                # take out IS\n",
    "                iterate_obj = [k[iterate_obj[-1] == 1] for k in iterate_obj]\n",
    "\n",
    "            # iterate_obj = gvf_id, next_pos, orth_gfvs, is_weight\n",
    "            for i_act, p, i_c, is_w in zip(*iterate_obj):\n",
    "                if np.any(np.all(L == p[-2:], axis=1)):\n",
    "                    cumulant = (self.sr[tuple(p) + (g,)] > self.thresholds['sr']\n",
    "                                > self.sr[tuple(state) + (g,)]\n",
    "                                ) * 1 if (i_depth == 0) else \\\n",
    "                        np.any(self.gvfs[(i_depth - 1,) + tuple(p) + (g, i_c)] > self.thresholds['gvfs']) * \\\n",
    "                        ((not has_sr) or np.all(self.gvfs[(range(i_depth),) + tuple(state) + (g,)] < self.thresholds['gvfs'])) * \\\n",
    "                        (self.sr[tuple(state) + (g,)] < self.thresholds['sr']) * 1\n",
    "\n",
    "                    self.gvfs[(i_depth,) + tuple(state) + (g, i_act)] = self.gvfs[\n",
    "                                                                            (i_depth,) + tuple(state) + (\n",
    "                                                                            g, i_act)] \\\n",
    "                                                                        + self.lr['gvfs'] * \\\n",
    "                                                                        (cumulant + (1 - cumulant) * is_w *\n",
    "                                                                         self.gammas[g] * self.gvfs[\n",
    "                                                                             (i_depth,) + tuple(p) + (g, i_act)]\n",
    "                                                                         - self.gvfs[\n",
    "                                                                             (i_depth,) + tuple(state) + (\n",
    "                                                                             g, i_act)]\n",
    "                                                                         )"
   ]
  },
  {
   "cell_type": "code",
   "execution_count": null,
   "metadata": {},
   "outputs": [],
   "source": [
    "iterate_obj"
   ]
  },
  {
   "cell_type": "code",
   "execution_count": null,
   "metadata": {},
   "outputs": [],
   "source": [
    "k = iterate_obj[0]"
   ]
  },
  {
   "cell_type": "code",
   "execution_count": null,
   "metadata": {},
   "outputs": [],
   "source": [
    "iterate_obj"
   ]
  },
  {
   "cell_type": "code",
   "execution_count": null,
   "metadata": {},
   "outputs": [],
   "source": [
    "np.all(self.gvfs[(range(i_depth),) + tuple(state) + (g,)])"
   ]
  },
  {
   "cell_type": "code",
   "execution_count": null,
   "metadata": {},
   "outputs": [],
   "source": [
    "np.all(self.gvfs[(range(i_depth),) + tuple(state) + (g,)])"
   ]
  },
  {
   "cell_type": "code",
   "execution_count": null,
   "metadata": {},
   "outputs": [],
   "source": [
    "self.gvfs[(range(i_depth),) + tuple(state) + (g,)]"
   ]
  },
  {
   "cell_type": "code",
   "execution_count": null,
   "metadata": {},
   "outputs": [],
   "source": [
    "self.gvfs[(range(i_depth),) + tuple(state) + (g,)] < self.thresholds['gvfs']"
   ]
  },
  {
   "cell_type": "code",
   "execution_count": null,
   "metadata": {},
   "outputs": [],
   "source": []
  },
  {
   "cell_type": "code",
   "execution_count": null,
   "metadata": {},
   "outputs": [],
   "source": []
  },
  {
   "cell_type": "code",
   "execution_count": null,
   "metadata": {},
   "outputs": [],
   "source": [
    "self.sr#[tuple(p) + (g,)]"
   ]
  },
  {
   "cell_type": "code",
   "execution_count": null,
   "metadata": {},
   "outputs": [],
   "source": [
    "size = gvf_net_xf.size\n",
    "num_actions = gvf_net_xf.num_actions\n",
    "L = env.maze.objects.free.positions\n",
    "\n",
    "# reset episode\n",
    "_, done = env.reset(), False\n",
    "\n",
    "\n",
    "while True:\n",
    "\n",
    "    # if exploration phase is True move randomly\n",
    "    if np.any([(i - k) % change == 0 for k in range(nb_episodes_random_policy)]):\n",
    "        act = np.random.randint(num_actio)\n",
    "    else: \n",
    "        act, _ = logits_net.get_action(torch.as_tensor(obs, dtype=torch.float32).to(device))\n",
    "        proba_beh = logits_net.get_action(torch.as_tensor(obs, dtype=torch.float32).to(device))\n",
    "        \n",
    "    # move\n",
    "    _, _, done, _ = env.step(act)\n",
    "\n",
    "    # next position\n",
    "    pos_next = np.squeeze(env.maze.objects.agent.positions).copy()\n",
    "\n",
    "    # utility at next position\n",
    "    utility_xf = np.all(pos_next == xf_pos) * 1.\n",
    "    utility_k1 = np.all(pos_next == k1_pos) * 1.\n",
    "    utility_k2 = np.all(pos_next == k2_pos) * 1.\n",
    "\n",
    "    # update gvfs in exploratory phase\n",
    "    if np.any([(i - k) % change == 0 for k in range(nb_episodes_random_policy)]):\n",
    "        gvf_net_k1.update(pos, utility_k1, act, pos_next, L)\n",
    "        gvf_net_k2.update(pos, utility_k2, act, pos_next, L)\n",
    "        gvf_net_xf.update(pos, utility_xf, act, pos_next, L)\n",
    "\n",
    "    # terminate if one of the subgoals was found (or at 200 steps):\n",
    "    if which_subgoal==0 and utility_k1==1:\n",
    "        rew = 50\n",
    "        done = True\n",
    "    elif which_subgoal==1 and utility_k2==1:\n",
    "        rew = 50\n",
    "        done = True\n",
    "    elif which_subgoal==2 and utility_xf==1:\n",
    "        rew = 50\n",
    "        done = True            \n",
    "    else:\n",
    "        rew = -0.2\n",
    "\n",
    "    if done == True:\n",
    "        # reset env\n",
    "        _, done, ep_rews = env.reset(), False, []"
   ]
  },
  {
   "cell_type": "code",
   "execution_count": null,
   "metadata": {},
   "outputs": [],
   "source": [
    "def reward_to_go(rewards):\n",
    "    n = len(rewards)\n",
    "    rtgs = np.zeros_like(rewards)\n",
    "    for i in reversed(range(n)):\n",
    "        rtgs[i] = rewards[i] + (rtgs[i + 1] if i + 1 < n else 0)\n",
    "    return rtgs\n",
    "\n",
    "\n",
    "def format_input(pos, r_pos, size, gvf_net) -> np.array:\n",
    "    return np.array([(pos[0] - size / 2) / 25, (pos[1] - size / 2) / 25,\n",
    "           (r_pos[0] - size / 2) / 25, (r_pos[1] - size / 2) / 25] + \\\n",
    "           gvf_net.gvfs[:, pos[0], pos[1], :, :].flatten().tolist() + \\\n",
    "           gvf_net.Q_gamma[pos[0], pos[1], :, :].flatten().tolist())"
   ]
  },
  {
   "cell_type": "code",
   "execution_count": null,
   "metadata": {},
   "outputs": [],
   "source": []
  }
 ],
 "metadata": {
  "kernelspec": {
   "display_name": "Python 3",
   "language": "python",
   "name": "python3"
  },
  "language_info": {
   "codemirror_mode": {
    "name": "ipython",
    "version": 3
   },
   "file_extension": ".py",
   "mimetype": "text/x-python",
   "name": "python",
   "nbconvert_exporter": "python",
   "pygments_lexer": "ipython3",
   "version": "3.7.2"
  }
 },
 "nbformat": 4,
 "nbformat_minor": 4
}
